{
  "nbformat": 4,
  "nbformat_minor": 0,
  "metadata": {
    "colab": {
      "name": "manipulacao_dados_pandas.ipynb",
      "provenance": [],
      "authorship_tag": "ABX9TyPHcm1AojnrYzRbUXbK3Ykg",
      "include_colab_link": true
    },
    "kernelspec": {
      "name": "python3",
      "display_name": "Python 3"
    },
    "language_info": {
      "name": "python"
    }
  },
  "cells": [
    {
      "cell_type": "markdown",
      "metadata": {
        "id": "view-in-github",
        "colab_type": "text"
      },
      "source": [
        "<a href=\"https://colab.research.google.com/github/hudsonhorta/awari_ds_unidade6_manipulacao_dados/blob/main/manipulacao_dados_pandas.ipynb\" target=\"_parent\"><img src=\"https://colab.research.google.com/assets/colab-badge.svg\" alt=\"Open In Colab\"/></a>"
      ]
    },
    {
      "cell_type": "code",
      "metadata": {
        "colab": {
          "base_uri": "https://localhost:8080/",
          "height": 204
        },
        "id": "HPu3FT4L7o99",
        "outputId": "2b34b7b7-d1f8-46bb-c793-120e1ef428e0"
      },
      "source": [
        "#importa bibliotecas necessárias\n",
        "import pandas as pd\n",
        "import re\n",
        "\n",
        "#função para extrar area usando split\n",
        "def extrair_area(entrada):\n",
        "  if 'm²' in entrada:\n",
        "    area = entrada.split(sep=' m²')[0]\n",
        "  else:\n",
        "    area = np.nan\n",
        "  return area\n",
        "\n",
        "#função para extrair quartos usando regex\n",
        "def extrair_quarto(entrada):\n",
        "  padrao = '(\\d+)' \n",
        "\n",
        "  if 'quarto' in entrada:\n",
        "    quarto = re.findall(padrao, entrada)[1]\n",
        "  else:\n",
        "    quarto = np.nan\n",
        "  return quarto\n",
        "\n",
        "#url do arquivo csv com os dados do mercado livre extraidos na aula anterior\n",
        "url = 'https://raw.githubusercontent.com/cassiasamp/calculadora-de-imoveis-mar-21/main/coleta_de_dados/dados_mercado_livre.csv'\n",
        "\n",
        "#ler arquivo csv e coloca dentro de um dataframe\n",
        "df_ml = pd.read_csv(url, thousands='.')\n",
        "\n",
        "#transforma coluna aluguel em float\n",
        "df_ml['aluguel'] = df_ml['aluguel'].astype(float)\n",
        "\n",
        "#chama as funções criando novas colunas usando apply para chamar as funções\n",
        "df_ml['area'] = df_ml['area_quarto'].apply(extrair_area).astype(float)\n",
        "df_ml['quarto'] = df_ml['area_quarto'].apply(extrair_quarto).astype(float)\n",
        "\n",
        "#apaga a coluna area_quarto\n",
        "df_ml = df_ml.drop('area_quarto', axis=1)\n",
        "\n",
        "#salva em um arquivo csv o resultado\n",
        "df_ml.to_csv('dados_tratados_ml.csv', index=False)\n",
        "\n",
        "df_ml.head()\n",
        "\n",
        "\n",
        "\n"
      ],
      "execution_count": 2,
      "outputs": [
        {
          "output_type": "execute_result",
          "data": {
            "text/html": [
              "<div>\n",
              "<style scoped>\n",
              "    .dataframe tbody tr th:only-of-type {\n",
              "        vertical-align: middle;\n",
              "    }\n",
              "\n",
              "    .dataframe tbody tr th {\n",
              "        vertical-align: top;\n",
              "    }\n",
              "\n",
              "    .dataframe thead th {\n",
              "        text-align: right;\n",
              "    }\n",
              "</style>\n",
              "<table border=\"1\" class=\"dataframe\">\n",
              "  <thead>\n",
              "    <tr style=\"text-align: right;\">\n",
              "      <th></th>\n",
              "      <th>aluguel</th>\n",
              "      <th>zona</th>\n",
              "      <th>area</th>\n",
              "      <th>quarto</th>\n",
              "    </tr>\n",
              "  </thead>\n",
              "  <tbody>\n",
              "    <tr>\n",
              "      <th>0</th>\n",
              "      <td>1000.0</td>\n",
              "      <td>sul</td>\n",
              "      <td>48.0</td>\n",
              "      <td>2.0</td>\n",
              "    </tr>\n",
              "    <tr>\n",
              "      <th>1</th>\n",
              "      <td>1200.0</td>\n",
              "      <td>sul</td>\n",
              "      <td>67.0</td>\n",
              "      <td>3.0</td>\n",
              "    </tr>\n",
              "    <tr>\n",
              "      <th>2</th>\n",
              "      <td>1300.0</td>\n",
              "      <td>sul</td>\n",
              "      <td>65.0</td>\n",
              "      <td>2.0</td>\n",
              "    </tr>\n",
              "    <tr>\n",
              "      <th>3</th>\n",
              "      <td>1280.0</td>\n",
              "      <td>sul</td>\n",
              "      <td>65.0</td>\n",
              "      <td>2.0</td>\n",
              "    </tr>\n",
              "    <tr>\n",
              "      <th>4</th>\n",
              "      <td>1100.0</td>\n",
              "      <td>sul</td>\n",
              "      <td>50.0</td>\n",
              "      <td>2.0</td>\n",
              "    </tr>\n",
              "  </tbody>\n",
              "</table>\n",
              "</div>"
            ],
            "text/plain": [
              "   aluguel zona  area  quarto\n",
              "0   1000.0  sul  48.0     2.0\n",
              "1   1200.0  sul  67.0     3.0\n",
              "2   1300.0  sul  65.0     2.0\n",
              "3   1280.0  sul  65.0     2.0\n",
              "4   1100.0  sul  50.0     2.0"
            ]
          },
          "metadata": {
            "tags": []
          },
          "execution_count": 2
        }
      ]
    },
    {
      "cell_type": "code",
      "metadata": {
        "id": "aUcW2zeaAV5o"
      },
      "source": [
        ""
      ],
      "execution_count": null,
      "outputs": []
    }
  ]
}